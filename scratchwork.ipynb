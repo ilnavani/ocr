{
 "cells": [
  {
   "cell_type": "code",
   "execution_count": 1,
   "id": "8f24f3fe-e316-4318-9efd-b35a14baab60",
   "metadata": {},
   "outputs": [],
   "source": [
    "import pandas as pd\n",
    "from sklearn import preprocessing\n",
    "import numpy as py"
   ]
  },
  {
   "cell_type": "code",
   "execution_count": 2,
   "id": "d455da66-77f2-4c13-8770-3a8143333fb4",
   "metadata": {},
   "outputs": [],
   "source": [
    "import os\n",
    "from os import listdir as ls"
   ]
  },
  {
   "cell_type": "code",
   "execution_count": 3,
   "id": "76959c6d-f931-4ee7-96b7-56cab9807724",
   "metadata": {},
   "outputs": [
    {
     "data": {
      "text/plain": [
       "['ParticipantsResults2012',\n",
       " 'evaluationTools',\n",
       " 'CROHME_papers',\n",
       " 'README.md',\n",
       " 'index.html',\n",
       " 'CROHME2011_data',\n",
       " 'CROHME_full_v2.zip',\n",
       " 'crohme.css',\n",
       " 'CROHME2013_data',\n",
       " '.git',\n",
       " '.ipynb_checkpoints',\n",
       " 'readme.txt',\n",
       " 'scratchwork.ipynb',\n",
       " 'CROHME2012_data']"
      ]
     },
     "execution_count": 3,
     "metadata": {},
     "output_type": "execute_result"
    }
   ],
   "source": [
    "ls(\"/home/DAVIDSON/mawang1/Workspace/CSC381/implementation-project-dl-f22-hueynataliemaureenilina/\")"
   ]
  },
  {
   "cell_type": "code",
   "execution_count": null,
   "id": "5352ca27-db34-4576-8aaa-aa4cea61073b",
   "metadata": {},
   "outputs": [],
   "source": [
    "# path_zip = '/home/DAVIDSON/mawang1/Workspace/CSC381/implementation-project-dl-f22-hueynataliemaureenilina/'"
   ]
  },
  {
   "cell_type": "code",
   "execution_count": null,
   "id": "e68076aa-eeb3-4059-912f-5a2df77b80c8",
   "metadata": {},
   "outputs": [],
   "source": [
    "import os\n",
    "import zipfile\n",
    "# with zipfile.ZipFile('CROHME_full_v2.zip', 'r') as zip_ref:\n",
    "    # zip_ref.extractall(path_zip)"
   ]
  },
  {
   "cell_type": "code",
   "execution_count": 4,
   "id": "ae0df7aa-0956-481a-b311-f6d0abcf7146",
   "metadata": {},
   "outputs": [],
   "source": [
    "path_2013 = '/home/DAVIDSON/mawang1/Workspace/CSC381/implementation-project-dl-f22-hueynataliemaureenilina/CROHME2013_data/TrainINKML/'"
   ]
  },
  {
   "cell_type": "code",
   "execution_count": null,
   "id": "d98f4ca9-23ee-4d1b-9e9b-714cf2aa6140",
   "metadata": {},
   "outputs": [],
   "source": [
    "path_Mathbrush = path_2013 + 'MathBrush/'"
   ]
  },
  {
   "cell_type": "code",
   "execution_count": null,
   "id": "206674b4-7b53-483c-ad4e-fe3fb16ec723",
   "metadata": {
    "tags": []
   },
   "outputs": [],
   "source": [
    "ls(path_Mathbrush)"
   ]
  },
  {
   "cell_type": "code",
   "execution_count": null,
   "id": "483b85fd-7059-40e5-ac7e-bb2a04d161df",
   "metadata": {},
   "outputs": [],
   "source": [
    "import matplotlib.pyplot as plt\n",
    "import matplotlib.image as mpimg\n",
    "import xml.etree.ElementTree as ET\n",
    "import os\n",
    "import numpy as np\n",
    "import pandas as pd"
   ]
  },
  {
   "cell_type": "code",
   "execution_count": null,
   "id": "819b4375-47c9-48cd-b410-18eb013acd23",
   "metadata": {},
   "outputs": [],
   "source": [
    "def seed_everything(seed):\n",
    "    os.environ['PYTHONHASHSEED'] = str(seed)\n",
    "    np.random.seed(seed)\n",
    "    \n",
    "SEED = 999\n",
    "seed_everything(SEED)"
   ]
  },
  {
   "cell_type": "code",
   "execution_count": null,
   "id": "040de43d-7e2f-45ad-9818-e15c61a58e4a",
   "metadata": {},
   "outputs": [],
   "source": []
  },
  {
   "cell_type": "code",
   "execution_count": null,
   "id": "e5bd6bf4-962c-4e8f-9a53-38b8b1f7ff9b",
   "metadata": {},
   "outputs": [],
   "source": []
  },
  {
   "cell_type": "code",
   "execution_count": null,
   "id": "2d7b9eff-66de-4e07-a161-c72e5ada5a75",
   "metadata": {},
   "outputs": [],
   "source": []
  }
 ],
 "metadata": {
  "kernelspec": {
   "display_name": "TensorFlow +GPU",
   "language": "python",
   "name": "python3-tensorflow-gpu"
  },
  "language_info": {
   "codemirror_mode": {
    "name": "ipython",
    "version": 3
   },
   "file_extension": ".py",
   "mimetype": "text/x-python",
   "name": "python",
   "nbconvert_exporter": "python",
   "pygments_lexer": "ipython3",
   "version": "3.8.6"
  }
 },
 "nbformat": 4,
 "nbformat_minor": 5
}
